{
 "cells": [
  {
   "cell_type": "code",
   "execution_count": 1,
   "id": "032d2ce0",
   "metadata": {},
   "outputs": [
    {
     "name": "stdout",
     "output_type": "stream",
     "text": [
      "Hello World\n"
     ]
    }
   ],
   "source": [
    "print(\"Hello World\")"
   ]
  },
  {
   "cell_type": "markdown",
   "id": "8b09baa8",
   "metadata": {},
   "source": [
    "# Problem 1\n",
    "\n",
    "### Given two strings (string_a and string_b) let's check whether or not they are anagrams of each other given the following criteria:\n",
    "> Two strings are only anagrams of each other if all conditions below are met:\n",
    "> * They must be exactly the same length.\n",
    "> * They must use exactly the same characters (no more, no less)\n",
    "\n",
    "Example: cars and scar, heart and earth, etc."
   ]
  },
  {
   "cell_type": "markdown",
   "id": "104a1cb3",
   "metadata": {},
   "source": [
    "----\n",
    "Use a dictionary with the letter as the key and the number_of_times used. \n",
    "Go through each string and count each\n",
    "\n",
    "special characters - spaces, apostrophes, hyphen\n",
    "Uppercase and lowercase - "
   ]
  },
  {
   "cell_type": "code",
   "execution_count": 9,
   "id": "940ccf9f",
   "metadata": {},
   "outputs": [],
   "source": [
    "def is_anagram(string_a, string_b):\n",
    "    if len(string_a) is not len(string_b):\n",
    "        return False\n",
    "    \n",
    "    char_times_a = dict()\n",
    "    char_times_b = dict()\n",
    "    \n",
    "    for i in range(len(string_a)):\n",
    "        if string_a[i] not in char_times_a.keys():\n",
    "            char_times_a[string_a[i]] = 0\n",
    "        else:\n",
    "            char_times_a[string_a[i]] += 1\n",
    "            \n",
    "        if string_b[i] not in char_times_b.keys():\n",
    "            char_times_b[string_b[i]] = 0\n",
    "        else:\n",
    "            char_times_b[string_b[i]] += 1\n",
    "    return char_times_a == char_times_b"
   ]
  },
  {
   "cell_type": "code",
   "execution_count": 10,
   "id": "407f3565",
   "metadata": {},
   "outputs": [
    {
     "data": {
      "text/plain": [
       "True"
      ]
     },
     "execution_count": 10,
     "metadata": {},
     "output_type": "execute_result"
    }
   ],
   "source": [
    "is_anagram(\"cars\", \"scar\")"
   ]
  },
  {
   "cell_type": "code",
   "execution_count": 11,
   "id": "42a6ea38",
   "metadata": {},
   "outputs": [
    {
     "data": {
      "text/plain": [
       "False"
      ]
     },
     "execution_count": 11,
     "metadata": {},
     "output_type": "execute_result"
    }
   ],
   "source": [
    "is_anagram(\"sccr\", \"scar\")"
   ]
  },
  {
   "cell_type": "code",
   "execution_count": 12,
   "id": "e34fd65a",
   "metadata": {},
   "outputs": [
    {
     "data": {
      "text/plain": [
       "False"
      ]
     },
     "execution_count": 12,
     "metadata": {},
     "output_type": "execute_result"
    }
   ],
   "source": [
    "is_anagram(\"I am lord Voldemort\", \"Tom Marvolo Riddle\")"
   ]
  },
  {
   "cell_type": "code",
   "execution_count": 14,
   "id": "d59ab2e3",
   "metadata": {},
   "outputs": [],
   "source": [
    "def createLetterDict(string_a):\n",
    "    char_times = dict()\n",
    "    for letter in string_a:\n",
    "        if letter == \" \":\n",
    "            continue\n",
    "        letter = letter.lower()\n",
    "        if letter not in char_times:\n",
    "            char_times[letter] = 1\n",
    "        else:\n",
    "            char_times[letter] += 1\n",
    "\n",
    "def is_anagram2(string_a, string_b):\n",
    "    if len(string_a) == len(string_b):\n",
    "        return False\n",
    "    \n",
    "    char_times_a = createLetterDict(string_a)\n",
    "    char_times_b = createLetterDict(string_b)\n",
    "    return char_times_a == char_times_b"
   ]
  },
  {
   "cell_type": "code",
   "execution_count": 15,
   "id": "632a67e2",
   "metadata": {},
   "outputs": [
    {
     "data": {
      "text/plain": [
       "True"
      ]
     },
     "execution_count": 15,
     "metadata": {},
     "output_type": "execute_result"
    }
   ],
   "source": [
    "is_anagram2(\"I am lord Voldemort\", \"Tom Marvolo Riddle\")"
   ]
  },
  {
   "cell_type": "code",
   "execution_count": 17,
   "id": "28b8de8b",
   "metadata": {},
   "outputs": [],
   "source": [
    "class Stack:\n",
    "    def __init__(self):\n",
    "        self.items = []\n",
    "        \n",
    "    def is_empty(self):\n",
    "        return self.items == []\n",
    "    \n",
    "    def push(self, item):\n",
    "        self.items.append(item)\n",
    "        \n",
    "    def pop(self):\n",
    "        return self.items.pop()\n",
    "        \n",
    "    def peek(self):\n",
    "        return self.items[len(self.items) - 1]\n",
    "    \n",
    "    def size(self):\n",
    "        return len(self.items)\n",
    "    "
   ]
  },
  {
   "cell_type": "code",
   "execution_count": 36,
   "id": "4ff86a57",
   "metadata": {},
   "outputs": [],
   "source": [
    "def reverse_str(s):\n",
    "    stack = Stack()\n",
    "    # iterate and push to stack\n",
    "    for char in s:\n",
    "        stack.push(char)\n",
    "    \n",
    "    # while stack is not empty pop and append to list    \n",
    "    collector = \"\"\n",
    "    while not stack.is_empty():\n",
    "        collector += stack.pop()\n",
    "        \n",
    "    print(collector)\n",
    "    return collector"
   ]
  },
  {
   "cell_type": "code",
   "execution_count": 37,
   "id": "7635e8b0",
   "metadata": {},
   "outputs": [],
   "source": [
    "def test_reverse_str():\n",
    "    assert reverse_str(\"racecar\") == \"racecar\"\n",
    "    assert reverse_str(\"SDGKU\") == \"UKGDS\"\n",
    "    assert reverse_str(\"ping pong\") == \"gnop gnip\""
   ]
  },
  {
   "cell_type": "code",
   "execution_count": 38,
   "id": "1cf84106",
   "metadata": {},
   "outputs": [
    {
     "name": "stdout",
     "output_type": "stream",
     "text": [
      "racecar\n",
      "UKGDS\n",
      "gnop gnip\n"
     ]
    }
   ],
   "source": [
    "test_reverse_str()"
   ]
  },
  {
   "cell_type": "code",
   "execution_count": 45,
   "id": "77e22877",
   "metadata": {},
   "outputs": [],
   "source": [
    "class Queue:\n",
    "    def __init__(self):\n",
    "        self.items = []\n",
    "        \n",
    "    def is_empty(self):\n",
    "        return self.items == []\n",
    "    \n",
    "    def push(self, item):\n",
    "        self.items.append(item)\n",
    "        \n",
    "    def pop(self):\n",
    "        if self.is_empty():\n",
    "            return None\n",
    "        return self.items.pop(0)\n",
    "        \n",
    "    def peek(self):\n",
    "        if self.is_empty():\n",
    "            return None\n",
    "        return self.items[0]\n",
    "    \n",
    "    def size(self):\n",
    "        return len(self.items)"
   ]
  },
  {
   "cell_type": "code",
   "execution_count": 50,
   "id": "1e018aa2",
   "metadata": {},
   "outputs": [],
   "source": [
    "def test_queue():\n",
    "    queue = Queue()\n",
    "    queue.push(\"A\")\n",
    "    queue.push(\"C\")\n",
    "    queue.push(\"E\")\n",
    "    print(\"A == \" + queue.pop())\n",
    "    print(\"C == \" + queue.pop())\n",
    "    print(\"E == \" + queue.pop())\n",
    "    print(\"None == \" + str(queue.pop()))\n"
   ]
  },
  {
   "cell_type": "code",
   "execution_count": 51,
   "id": "c781dec6",
   "metadata": {},
   "outputs": [
    {
     "name": "stdout",
     "output_type": "stream",
     "text": [
      "A == A\n",
      "C == C\n",
      "E == E\n",
      "None == None\n"
     ]
    }
   ],
   "source": [
    "test_queue()"
   ]
  },
  {
   "cell_type": "code",
   "execution_count": 59,
   "id": "1b075e4c",
   "metadata": {},
   "outputs": [],
   "source": [
    "from string import ascii_lowercase\n",
    "from random import randint, choice\n",
    "from time import sleep\n",
    "\n",
    "def register_visitor(visitor_queue):\n",
    "    for char in ascii_lowercase:\n",
    "        visitor_queue.push(char)\n",
    "    \n",
    "def service_customers(visitor_queue):\n",
    "    bank_tellers = [\"A\", 'B', 'C', 'D', 'E', 'F', 'G']\n",
    "    while not visitor_queue.is_empty():\n",
    "        visitor = visitor_queue.pop()\n",
    "        print(f\"Thank you for waiting {visitor}, station {choice(bank_tellers)} is ready for you.\")\n",
    "        sleep(randint(1,2))\n",
    "    print(\"Empty visitor queue.\")\n",
    "    \n",
    "def main():\n",
    "    visistor_queue = Queue()\n",
    "    register_visitor(visistor_queue)\n",
    "    service_customers(visistor_queue)                     "
   ]
  },
  {
   "cell_type": "code",
   "execution_count": 60,
   "id": "76cfb741",
   "metadata": {},
   "outputs": [
    {
     "name": "stdout",
     "output_type": "stream",
     "text": [
      "Thank you for waiting a, station A is ready for you.\n",
      "Thank you for waiting b, station A is ready for you.\n",
      "Thank you for waiting c, station D is ready for you.\n",
      "Thank you for waiting d, station G is ready for you.\n",
      "Thank you for waiting e, station A is ready for you.\n",
      "Thank you for waiting f, station E is ready for you.\n",
      "Thank you for waiting g, station F is ready for you.\n",
      "Thank you for waiting h, station C is ready for you.\n",
      "Thank you for waiting i, station E is ready for you.\n",
      "Thank you for waiting j, station G is ready for you.\n",
      "Thank you for waiting k, station F is ready for you.\n",
      "Thank you for waiting l, station E is ready for you.\n",
      "Thank you for waiting m, station G is ready for you.\n",
      "Thank you for waiting n, station A is ready for you.\n",
      "Thank you for waiting o, station G is ready for you.\n",
      "Thank you for waiting p, station D is ready for you.\n",
      "Thank you for waiting q, station G is ready for you.\n",
      "Thank you for waiting r, station G is ready for you.\n",
      "Thank you for waiting s, station B is ready for you.\n",
      "Thank you for waiting t, station B is ready for you.\n",
      "Thank you for waiting u, station A is ready for you.\n",
      "Thank you for waiting v, station C is ready for you.\n",
      "Thank you for waiting w, station C is ready for you.\n",
      "Thank you for waiting x, station B is ready for you.\n",
      "Thank you for waiting y, station A is ready for you.\n",
      "Thank you for waiting z, station C is ready for you.\n",
      "Empty visitor queue.\n"
     ]
    }
   ],
   "source": [
    "main()"
   ]
  },
  {
   "cell_type": "code",
   "execution_count": 81,
   "id": "1922cb9b",
   "metadata": {},
   "outputs": [],
   "source": [
    "# Assignment 1\n",
    "# Balanced parentheses check\n",
    "\n",
    "def balance_check(s):\n",
    "    if (len(s) % 2 != 0): # if odd, return False\n",
    "        return False\n",
    "    \n",
    "    stack = Stack()\n",
    "    opening = ['(', '[', '{']\n",
    "    closing = [')', ']', '}']\n",
    "    pairs = dict()\n",
    "    for i in range(len(opening)):\n",
    "        pairs[closing[i]] = opening[i]\n",
    "    \n",
    "    # iterate through s with char\n",
    "    for char in s: \n",
    "        \n",
    "        # if char is opening, add to stack\n",
    "        if char in opening: \n",
    "            stack.push(char)\n",
    "            \n",
    "        # if car is closing \n",
    "        elif char in closing:\n",
    "            \n",
    "            # pop the last_opening\n",
    "            last_opening = stack.pop() \n",
    "            \n",
    "            # if last_opening not complement of char return false\n",
    "            if pairs[char] != last_opening: \n",
    "                return False\n",
    "\n",
    "\n",
    "    # return true if stack is empty\n",
    "    return stack.is_empty()\n",
    "\n",
    "# def balance_check_2(s):\n",
    "#     if (len(s) % 2 != 0):\n",
    "#         return False\n",
    "    \n",
    "#     opening = ['(', '[', '{']\n",
    "#     closing = [')', ']', '}']\n",
    "#     pairs = dict()\n",
    "#     for i in range(len(opening)):\n",
    "#         pairs[closing[i]] = opening[i]\n",
    "    \n",
    "#     stack = Stack()\n",
    "#     for char in s:\n",
    "#         if char in opening: \n",
    "#             stack.push(char)\n",
    "#         elif char in closing:\n",
    "#             last_opening = stack.pop()\n",
    "#             if pairs[char] != last_opening: \n",
    "#                 return False\n",
    "#     return stack.is_empty()"
   ]
  },
  {
   "cell_type": "code",
   "execution_count": 82,
   "id": "62a14328",
   "metadata": {},
   "outputs": [],
   "source": [
    "assert balance_check(\"Hellow\") == True\n",
    "\n",
    "assert balance_check(\"()\") == True\n",
    "assert balance_check(\"(\") == False\n",
    "\n",
    "assert balance_check(\"(){}[]{}()\") == True\n",
    "assert balance_check(\"){}[]{}()\") == False\n",
    "\n",
    "assert balance_check(\"{}[()]{()}\") == True\n",
    "assert balance_check(\"{}[()]{()}(\") == False\n",
    "\n",
    "assert balance_check(\"((((((((((((((()))))))))))))))\") == True\n",
    "assert balance_check(\"((((((((((((((()))))))))])))))\") == False"
   ]
  },
  {
   "cell_type": "code",
   "execution_count": 18,
   "id": "8ee4bdb1",
   "metadata": {},
   "outputs": [],
   "source": [
    "# replace\n",
    "\n",
    "def replace(string, target, replacement):\n",
    "    splitString = list(string)\n",
    "    for i in range(len(splitString)):\n",
    "#         print(f\"{i} {splitString[i]}\")\n",
    "        if splitString[i] == target:\n",
    "            splitString[i] = replacement\n",
    "    return \"\".join(splitString)\n",
    "            "
   ]
  },
  {
   "cell_type": "code",
   "execution_count": 19,
   "id": "a16e868f",
   "metadata": {},
   "outputs": [],
   "source": [
    "assert replace(\"AAABBBAAA\", \"A\", \"Z\") == \"ZZZBBBZZZ\"\n",
    "# print(replace(\"AAABBBAAA\", \"A\", \"Z\"))"
   ]
  },
  {
   "cell_type": "code",
   "execution_count": 46,
   "id": "8f55c7e4",
   "metadata": {},
   "outputs": [],
   "source": [
    "# Assignment 2\n",
    "class Queue2Stacks:\n",
    "    def __init__(self):\n",
    "        self.stack1 = []\n",
    "        self.stack2 = []\n",
    "        \n",
    "    def enqueue(self, element):\n",
    "        self.stack1.append(element)\n",
    "    \n",
    "    def dequeue(self):\n",
    "        if len(self.stack1) == 0 and len(self.stack2) == 0:\n",
    "            return None\n",
    "        \n",
    "        if len(self.stack2):\n",
    "            return self.stack2.pop()\n",
    "            \n",
    "        while len(self.stack1):\n",
    "            self.stack2.append(self.stack1.pop())\n",
    "            \n",
    "        return self.stack2.pop()"
   ]
  },
  {
   "cell_type": "code",
   "execution_count": 47,
   "id": "f93d1391",
   "metadata": {},
   "outputs": [],
   "source": [
    "def test_Queue2Stacks():\n",
    "    q = Queue2Stacks()\n",
    "    for i in range(5):\n",
    "        q.enqueue(i)\n",
    "    for i in range(5):\n",
    "        print(q.dequeue())"
   ]
  },
  {
   "cell_type": "code",
   "execution_count": 48,
   "id": "00af6521",
   "metadata": {},
   "outputs": [
    {
     "name": "stdout",
     "output_type": "stream",
     "text": [
      "0\n",
      "1\n",
      "2\n",
      "3\n",
      "4\n"
     ]
    }
   ],
   "source": [
    "test_Queue2Stacks()"
   ]
  },
  {
   "cell_type": "code",
   "execution_count": 41,
   "id": "16db1b52",
   "metadata": {},
   "outputs": [],
   "source": [
    "def rec_factorial(n):\n",
    "    if n == 1:\n",
    "        return 1\n",
    "    return n * rec_factorial(n - 1)"
   ]
  },
  {
   "cell_type": "code",
   "execution_count": 42,
   "id": "1782fed3",
   "metadata": {},
   "outputs": [
    {
     "data": {
      "text/plain": [
       "720"
      ]
     },
     "execution_count": 42,
     "metadata": {},
     "output_type": "execute_result"
    }
   ],
   "source": [
    "rec_factorial(6)"
   ]
  },
  {
   "cell_type": "code",
   "execution_count": 73,
   "id": "7d430778",
   "metadata": {},
   "outputs": [],
   "source": [
    "# memo = {\n",
    "#     0 : 0,\n",
    "#     1 : 1\n",
    "# }\n",
    "# def fib(n):\n",
    "#     if n in memo:\n",
    "#         return memo[n]\n",
    "#     result = fib(n - 1) + fib(n - 2)\n",
    "#     memo[n] = result\n",
    "#     return result\n",
    "\n",
    "from functools import lru_cache\n",
    "\n",
    "@lru_cache\n",
    "def fib(n):\n",
    "    if n < 2:\n",
    "        return n\n",
    "    return fib(n - 1) + fib(n - 2)"
   ]
  },
  {
   "cell_type": "code",
   "execution_count": 74,
   "id": "9aca22fe",
   "metadata": {},
   "outputs": [
    {
     "name": "stdout",
     "output_type": "stream",
     "text": [
      "fib(0) 0\n",
      "fib(1) 1\n",
      "fib(2) 1\n",
      "fib(3) 2\n",
      "fib(4) 3\n",
      "fib(5) 5\n",
      "fib(6) 8\n",
      "fib(7) 13\n",
      "fib(8) 21\n",
      "fib(9) 34\n"
     ]
    }
   ],
   "source": [
    "for i in range(10):\n",
    "    print(f\"fib({i}) {fib(i)}\")"
   ]
  },
  {
   "cell_type": "code",
   "execution_count": 3,
   "id": "02bc076b",
   "metadata": {},
   "outputs": [],
   "source": [
    "class Node:\n",
    "    def __init__(self, data):\n",
    "        self.data = data\n",
    "        self.next = None"
   ]
  },
  {
   "cell_type": "code",
   "execution_count": 17,
   "id": "28dcb8b8",
   "metadata": {},
   "outputs": [],
   "source": [
    "class LinkedList:\n",
    "    def __init__(self):\n",
    "        self.head = None\n",
    "        self.tail = None\n",
    "        \n",
    "    def prepend(self, data):\n",
    "        new_node = Node(data)\n",
    "        if self.head is None:\n",
    "            self.tail = new_node\n",
    "            \n",
    "        new_node.next = self.head\n",
    "        self.head = new_node\n",
    "    \n",
    "    def append(self, data):\n",
    "        new_node = Node(data)\n",
    "        if self.head is None:\n",
    "            self.head = new_node\n",
    "        if self.tail:\n",
    "            self.tail.next = new_node\n",
    "        self.tail = new_node\n",
    "        \n",
    "    def insert_after(self, target, data):\n",
    "        if self.head is None:\n",
    "            raise Exception(\"No head\")\n",
    "        \n",
    "        new_node = Node(data)\n",
    "        beforeNode = self.head\n",
    "        while beforeNode and beforeNode.data != target:\n",
    "            beforeNode = beforeNode.next\n",
    "        \n",
    "        if not beforeNode:\n",
    "            raise ValueError(\"Unable to find target\")\n",
    "            \n",
    "        new_node.next = beforeNode.next\n",
    "        beforeNode.next = new_node\n",
    "        \n",
    "        if self.tail is beforeNode:\n",
    "            self.tail = beforeNode.next\n",
    "        \n",
    "    \n",
    "    def remove(self, target):\n",
    "        if self.head is None:\n",
    "            raise Exception(\"No list\")\n",
    "            \n",
    "        if self.head.data == target:\n",
    "            self.head = self.head.next\n",
    "            return\n",
    "        \n",
    "        pointer = self.head\n",
    "        while pointer.next and pointer.next.data != target:\n",
    "            pointer = pointer.next\n",
    "            \n",
    "        if not pointer.next:\n",
    "            raise ValueError(\"Unable to find target\")\n",
    "            \n",
    "        if pointer.next == self.tail:\n",
    "            self.tail = pointer\n",
    "        pointer.next = pointer.next.next\n",
    "            \n",
    "    \n",
    "    def print(self):\n",
    "        printStatement = list()\n",
    "        printStatement.append(f\"self.head => {self.head.data} \\n\")\n",
    "        printStatement.append(f\"self.tail => {self.tail.data} \\n\")\n",
    "        \n",
    "        pointer = self.head\n",
    "        while pointer:\n",
    "            printStatement.append(f\"{pointer.data}\")\n",
    "            printStatement.append(\" -> \")\n",
    "            pointer = pointer.next\n",
    "    \n",
    "        print(\"\".join(printStatement))\n",
    "        \n",
    "    def index_of(self, target):\n",
    "        if not self.head:\n",
    "            raise ValueError(\"No list\")\n",
    "        \n",
    "        count = 0\n",
    "        pointer = self.head\n",
    "        while pointer and pointer.data != target:\n",
    "            count += 1\n",
    "            pointer = pointer.next\n",
    "    \n",
    "        if not pointer:\n",
    "            raise ValueError(\"Target not found\")\n",
    "            \n",
    "        return count\n",
    "    \n",
    "    def max(self):\n",
    "        if not self.head:\n",
    "            raise ValueError(\"No max. No List\")\n",
    "            \n",
    "        pointer = self.head\n",
    "        max = self.head.data\n",
    "        while pointer:\n",
    "            if (pointer.data > max):\n",
    "                max = pointer.data\n",
    "            pointer = pointer.next\n",
    "\n",
    "                \n",
    "        return max\n",
    "        "
   ]
  },
  {
   "cell_type": "code",
   "execution_count": 20,
   "id": "5674fbb4",
   "metadata": {},
   "outputs": [
    {
     "name": "stdout",
     "output_type": "stream",
     "text": [
      "\n",
      "LinkedList\n",
      "self.head => 4 \n",
      "self.tail => 4 \n",
      "4 -> \n",
      "\n",
      "Prepending 3, 2\n",
      "self.head => 2 \n",
      "self.tail => 4 \n",
      "2 -> 3 -> 4 -> \n",
      "\n",
      "Appending 8, 9\n",
      "self.head => 2 \n",
      "self.tail => 9 \n",
      "2 -> 3 -> 4 -> 8 -> 9 -> \n",
      "\n",
      "Inserting 6 after 4, 5 after 4, 7 after 6\n",
      "self.head => 2 \n",
      "self.tail => 9 \n",
      "2 -> 3 -> 4 -> 5 -> 6 -> 7 -> 8 -> 9 -> \n",
      "\n",
      " testing index_of \n",
      "2 is in index 0\n",
      "4 is in index 2\n",
      "6 is in index 4\n",
      "9 is in index 7\n",
      "\n",
      "Removing the Head - 2, 3\n",
      "self.head => 4 \n",
      "self.tail => 9 \n",
      "4 -> 5 -> 6 -> 7 -> 8 -> 9 -> \n",
      "\n",
      "Removing the Tail 9, 8\n",
      "self.head => 4 \n",
      "self.tail => 7 \n",
      "4 -> 5 -> 6 -> 7 -> \n",
      "\n",
      "Removing the Middle 5, 6\n",
      "self.head => 4 \n",
      "self.tail => 7 \n",
      "4 -> 7 -> \n",
      "\n",
      "Max\n",
      "self.head => 4 \n",
      "self.tail => 7 \n",
      "4 -> 7 -> \n",
      "7\n",
      "self.head => 4 \n",
      "self.tail => 19 \n",
      "4 -> 7 -> 19 -> \n",
      "19\n",
      "self.head => 20 \n",
      "self.tail => 19 \n",
      "20 -> 4 -> 7 -> 19 -> \n",
      "20\n",
      "self.head => 20 \n",
      "self.tail => 19 \n",
      "20 -> 4 -> 21 -> 7 -> 19 -> \n",
      "21\n"
     ]
    }
   ],
   "source": [
    "linkedList = LinkedList()\n",
    "print(\"\\nLinkedList\")\n",
    "linkedList.append(4)\n",
    "linkedList.print()\n",
    "\n",
    "print(\"\\nPrepending 3, 2\")\n",
    "linkedList.prepend(3)\n",
    "linkedList.prepend(2)\n",
    "linkedList.print()\n",
    "\n",
    "print(\"\\nAppending 8, 9\")\n",
    "linkedList.append(8)\n",
    "linkedList.append(9)\n",
    "linkedList.print()\n",
    "\n",
    "print(\"\\nInserting 6 after 4, 5 after 4, 7 after 6\")\n",
    "linkedList.insert_after(4,6)\n",
    "linkedList.insert_after(4,5)\n",
    "linkedList.insert_after(6,7)\n",
    "linkedList.print()\n",
    "\n",
    "print(\"\\n testing index_of \")\n",
    "print(f\"2 is in index {linkedList.index_of(2)}\")\n",
    "print(f\"4 is in index {linkedList.index_of(4)}\")\n",
    "print(f\"6 is in index {linkedList.index_of(6)}\")\n",
    "print(f\"9 is in index {linkedList.index_of(9)}\")\n",
    "\n",
    "print(\"\\nRemoving the Head - 2, 3\")\n",
    "linkedList.remove(2)\n",
    "linkedList.remove(3)\n",
    "linkedList.print()\n",
    "\n",
    "print(\"\\nRemoving the Tail 9, 8\")\n",
    "# removing the tail\n",
    "linkedList.remove(9)\n",
    "linkedList.remove(8)\n",
    "linkedList.print()\n",
    "\n",
    "print(\"\\nRemoving the Middle 5, 6\")\n",
    "linkedList.remove(6)\n",
    "linkedList.remove(5)\n",
    "linkedList.print()\n",
    "\n",
    "print(\"\\nMax\")\n",
    "linkedList.print()\n",
    "print(linkedList.max())\n",
    "linkedList.append(19)\n",
    "linkedList.print()\n",
    "print(linkedList.max())\n",
    "linkedList.prepend(20)\n",
    "linkedList.print()\n",
    "print(linkedList.max())\n",
    "linkedList.insert_after(4,21)\n",
    "linkedList.print()\n",
    "print(linkedList.max())"
   ]
  },
  {
   "cell_type": "code",
   "execution_count": null,
   "id": "4b8d1978",
   "metadata": {},
   "outputs": [],
   "source": [
    "class DNode:\n",
    "    def __init__(self, data):\n",
    "        self.data = data\n",
    "        self.next = None\n",
    "        self.prev = None"
   ]
  },
  {
   "cell_type": "code",
   "execution_count": null,
   "id": "5f817f84",
   "metadata": {},
   "outputs": [],
   "source": [
    "class DoublyLinkedList:\n",
    "    def __init__(self):\n",
    "        self.head = None\n",
    "        self.tail = None\n",
    "        \n",
    "    def append(self, data):\n",
    "        pass\n",
    "    \n",
    "    def prepend(self, data):\n",
    "        new_node = DNode(data)\n",
    "        \n",
    "        if not self.head:\n",
    "            self.head = new_node\n",
    "            self.tail = new_node\n",
    "            return\n",
    "            \n",
    "        self.head.prev = new_node\n",
    "        new_node.next = self.head\n",
    "        self.head = new_node\n",
    "    \n",
    "    def insert_after(self, target, data):\n",
    "        pass\n",
    "    \n",
    "    def insert_before(self, target, data):\n",
    "        pass\n",
    "    \n",
    "    def remove(self, target):\n",
    "        pass\n",
    "    \n",
    "    def index_of(self, target):\n",
    "        pass\n",
    "    \n",
    "    def maximum(self, target):\n",
    "        pass\n",
    "    \n",
    "    def minimum(self, target):\n",
    "        pass\n",
    "    \n",
    "    def mode(self, target):\n",
    "        pass\n",
    "    \n",
    "    def median(self, target):\n",
    "        pass\n",
    "    \n",
    "    def mean(self, target):\n",
    "        pass\n",
    "    \n",
    "    "
   ]
  }
 ],
 "metadata": {
  "kernelspec": {
   "display_name": "Python 3",
   "language": "python",
   "name": "python3"
  },
  "language_info": {
   "codemirror_mode": {
    "name": "ipython",
    "version": 3
   },
   "file_extension": ".py",
   "mimetype": "text/x-python",
   "name": "python",
   "nbconvert_exporter": "python",
   "pygments_lexer": "ipython3",
   "version": "3.9.4"
  }
 },
 "nbformat": 4,
 "nbformat_minor": 5
}
